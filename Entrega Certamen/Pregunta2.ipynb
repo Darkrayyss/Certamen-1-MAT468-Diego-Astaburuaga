{
 "cells": [
  {
   "cell_type": "markdown",
   "metadata": {},
   "source": [
    "# Certamen de Simulación Estocástica - Pregunta 2\n",
    "- Diego Astaburuaga"
   ]
  },
  {
   "cell_type": "markdown",
   "metadata": {},
   "source": [
    "**a)** Debemos probar que, $Algo(\\alpha)$ es un esquema recursivo probabilistico y que para todo parámetro $\\alpha$, el algoritmo termina en tiempo finito con probabilidad 1 y regresa una muestra desde una distribución objetivo.\n",
    "\n",
    "Claramente el algoritmo es un esquema recursivo probabilístico dado que debe hacer una elección aleatoria que depende de la generación $X$ desde una uniforme, en esto, es capaz de llamarse a si mismo con -el mismo parámetro- que realmente no tiene importancia.\n",
    "\n",
    "Obviando el parámetro, note que la probabilidad de que el algoritmo no termine en tiempo finito es igual a la probabilidad de que se llame recursivamente de forma infinita. Note que el algoritmo se llama de forma recursiva con probabilidad $1/2$, por lo tanto, el algoritmo se llama asi mismo $n$ veces con probabilidad\n",
    "$$\n",
    "(1/2)^n\n",
    "$$\n",
    "por lo tanto el algoritmo se llama recursivamente de forma infinita con probabilidad 0, es decir, termina en tiempo finito con probabilidad 1."
   ]
  },
  {
   "cell_type": "markdown",
   "metadata": {},
   "source": [
    "Se afirma que $\\pi_\\alpha=U[1,2,3,4,5]$ discreta para todo $\\alpha$, en efecto, sea $\\alpha$ en una familia arbitraria de parámetros, por probabilidad condicional, para $i\\in \\{1,2,3,4,5\\}:\n",
    "$$\n",
    "P(X=i) = P(X_0=i) + (1-P(X_0=i))P(X=i) =\\frac{1}{10} + \\frac{1}{2}P(X=i)\n",
    "$$\n",
    "que se se entiende como: el valor que sale será $i$ en dos casos, primero, que no entre en recursión y valga $i$, o que entre recursión y dentro de esta retorne $i$. Resolviendo la ecuación se obtiene que\n",
    "$$\n",
    "P(X=i)=\\frac{1}{5}\n",
    "$$\n",
    "lo que prueba lo pedido."
   ]
  },
  {
   "cell_type": "markdown",
   "metadata": {},
   "source": [
    "**b)** Demuestre que Algo2(α) es un algoritmo de simulación perfecta que simula la\n",
    "distribución uniforme.\n",
    "\n",
    "proof: Claramente Algo2($\\alpha$) es un algoritmo recursivo probabilístico. Utilizando el teorema fundamental de la simulación, probemos que el algoritmo termina en una cantidad finita de pasos con probabilidad 1, para esto, note que si $\\beta\\leq 5$, entonces la recursión termina, caso contrario, notese que $\\beta\\leq \\alpha$:\n",
    "$$\n",
    "P(\\text{entra en recursion con parámetro }\\beta)=\\frac{\\beta-\\min\\{5,\\beta\\}}{\\beta}<\\frac{\\beta-5}{\\beta}=1-\\frac{5}{\\beta}\\leq 1-\\frac{5}{\\alpha}=\\frac{\\alpha-5}{\\alpha}\n",
    "$$"
   ]
  },
  {
   "cell_type": "markdown",
   "metadata": {},
   "source": [
    "bien definido dado que $\\alpha > 5$, en caso contrario el algoritmo termina trivialmente en un paso. Por lo tanto la probabilidad de entrar en una n-ésima recursión es menor o igual a\n",
    "$$\n",
    "\\left(1-\\frac{5}{\\alpha}\\right)^n\\rightarrow 0\n",
    "$$"
   ]
  },
  {
   "cell_type": "markdown",
   "metadata": {},
   "source": [
    "Nuevamente consideremos que para todo $\\alpha$, la distribucion objetivo es la uniforme de 1,2,3,4,5. Si $\\alpha\\leq 5$ el resultado es trivial, ahora probemos que para $\\alpha>5$ el algoritmo es localmente correcto (esto ya se tiene para el caso $\\alpha\\leq 5$). Dado $\\alpha>5$, repitiendo formulamiento anterior, $X$ tomara el valor $i$ cuando inicialmente la distribución uniforme utilizada asi lo determine o bien, cuando esté en recursión, por lo tanto utilizano la propiedad del oraculo\n",
    "$$\n",
    "P(X=i)=\\frac{1}{\\alpha}+\\left(\\frac{\\alpha-5}{\\alpha}\\right)\\frac{1}{5}=\\frac{1}{5}\n",
    "$$\n",
    "lo que verifica lo pedido."
   ]
  },
  {
   "cell_type": "markdown",
   "metadata": {},
   "source": [
    "**c)** Se puede demostrar (no es necesario que lo haga) que Algo3(g), en efecto, un\n",
    "algoritmo de simulación perfecto que simula datos desde h si g ≥ h:"
   ]
  }
 ],
 "metadata": {
  "language_info": {
   "name": "python"
  }
 },
 "nbformat": 4,
 "nbformat_minor": 2
}

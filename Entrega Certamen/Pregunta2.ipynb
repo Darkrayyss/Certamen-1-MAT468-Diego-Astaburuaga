{
 "cells": [
  {
   "cell_type": "markdown",
   "metadata": {},
   "source": [
    "# Certamen de Simulación Estocástica - Pregunta 2\n",
    "- Diego Astaburuaga"
   ]
  },
  {
   "cell_type": "code",
   "execution_count": null,
   "metadata": {},
   "outputs": [],
   "source": []
  }
 ],
 "metadata": {
  "language_info": {
   "name": "python"
  }
 },
 "nbformat": 4,
 "nbformat_minor": 2
}
